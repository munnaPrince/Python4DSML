{
 "cells": [
  {
   "cell_type": "code",
   "execution_count": 4,
   "id": "mediterranean-colleague",
   "metadata": {},
   "outputs": [],
   "source": [
    "class Solution:\n",
    "    def twoSum(self,nums, target):\n",
    "        for i in range(len(nums)):\n",
    "            for j in range(len(nums)):\n",
    "                if(i!=j):\n",
    "                    if(nums[i]+nums[j]==target):\n",
    "                        return [i,j]"
   ]
  },
  {
   "cell_type": "code",
   "execution_count": 5,
   "id": "lesbian-pearl",
   "metadata": {},
   "outputs": [
    {
     "data": {
      "text/plain": [
       "[0, 3]"
      ]
     },
     "execution_count": 5,
     "metadata": {},
     "output_type": "execute_result"
    }
   ],
   "source": [
    "sol = Solution()\n",
    "sol.twoSum([1,2,3,4],5)"
   ]
  }
 ],
 "metadata": {
  "kernelspec": {
   "display_name": "Python 3",
   "language": "python",
   "name": "python3"
  },
  "language_info": {
   "codemirror_mode": {
    "name": "ipython",
    "version": 3
   },
   "file_extension": ".py",
   "mimetype": "text/x-python",
   "name": "python",
   "nbconvert_exporter": "python",
   "pygments_lexer": "ipython3",
   "version": "3.8.5"
  }
 },
 "nbformat": 4,
 "nbformat_minor": 5
}
